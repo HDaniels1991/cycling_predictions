{
 "cells": [
  {
   "cell_type": "code",
   "execution_count": 42,
   "metadata": {},
   "outputs": [],
   "source": [
    "import warnings\n",
    "warnings.filterwarnings('ignore')"
   ]
  },
  {
   "cell_type": "code",
   "execution_count": 44,
   "metadata": {},
   "outputs": [],
   "source": [
    "import pandas as pd\n",
    "from pandas import Series, DataFrame\n",
    "import requests\n",
    "from bs4 import BeautifulSoup"
   ]
  },
  {
   "cell_type": "code",
   "execution_count": 45,
   "metadata": {},
   "outputs": [],
   "source": [
    "#pretend to be a browser\n",
    "header = {\n",
    "  \"User-Agent\": \"Mozilla/5.0 (X11; Linux x86_64) AppleWebKit/537.36 (KHTML, like Gecko) Chrome/50.0.2661.75 Safari/537.36\",\n",
    "  \"X-Requested-With\": \"XMLHttpRequest\"\n",
    "}"
   ]
  },
  {
   "cell_type": "code",
   "execution_count": 46,
   "metadata": {},
   "outputs": [],
   "source": [
    "#grand tour urls\n",
    "#giro d-italia\n",
    "url_gdi = 'https://www.procyclingstats.com/race/giro-d-italia/'\n",
    "#tour de france\n",
    "url_tdf = 'https://www.procyclingstats.com/race/tour-de-france/'\n",
    "#vuelta a espana\n",
    "url_vae = 'https://www.procyclingstats.com/race/vuelta-a-espana/'"
   ]
  },
  {
   "cell_type": "code",
   "execution_count": 77,
   "metadata": {},
   "outputs": [],
   "source": [
    "#url data\n",
    "base_url = 'https://www.procyclingstats.com/race/'"
   ]
  },
  {
   "cell_type": "code",
   "execution_count": 78,
   "metadata": {},
   "outputs": [],
   "source": [
    "#grand tours\n",
    "tours = ['giro-d-italia','tour-de-france','vuelta-a-espana']\n",
    "#considered years\n",
    "years = list(range(2010,2017,1))\n",
    "#stages\n",
    "stages = list(range(1,21,1))"
   ]
  },
  {
   "cell_type": "code",
   "execution_count": 83,
   "metadata": {},
   "outputs": [],
   "source": [
    "#gt data\n",
    "tour = tours[0]\n",
    "year = str(years[0])\n",
    "stage = str(stages[0])\n",
    "url = base_url + tour +'/'+ year + '/stage-' + stage\n",
    "r = requests.get(url,headers = header)\n",
    "results = pd.read_html(r.text)\n",
    "results = results[0]\n",
    "\n",
    "#fix time\n",
    "time = [x[0] for x in results.time.str.split()]\n",
    "\n",
    "results['race'] = tour\n",
    "results['year'] = year\n",
    "results['stage'] = stage\n",
    "results.columns = results.columns.str.lower()\n"
   ]
  },
  {
   "cell_type": "code",
   "execution_count": 93,
   "metadata": {},
   "outputs": [],
   "source": [
    "time = [x[0] for x in results.time.str.split()]"
   ]
  },
  {
   "cell_type": "code",
   "execution_count": 98,
   "metadata": {},
   "outputs": [],
   "source": [
    "wining = time[0]"
   ]
  },
  {
   "cell_type": "code",
   "execution_count": 99,
   "metadata": {},
   "outputs": [
    {
     "data": {
      "text/plain": [
       "'10:18'"
      ]
     },
     "execution_count": 99,
     "metadata": {},
     "output_type": "execute_result"
    }
   ],
   "source": [
    "wining"
   ]
  },
  {
   "cell_type": "code",
   "execution_count": 63,
   "metadata": {},
   "outputs": [
    {
     "data": {
      "text/plain": [
       "[     Rnk  BIB                    Rider  Age  \\\n",
       " 0      1  171          Wiggins Bradley   30   \n",
       " 1      2    2         Bookwalter Brent   26   \n",
       " 2      3    1              Evans Cadel   33   \n",
       " 3      4   41     Vinokourov Alexandre   36   \n",
       " 4      5  177        Henderson Gregory   33   \n",
       " 5      6  219             Porte Richie   25   \n",
       " 6      7  111             Millar David   33   \n",
       " 7      8  215           Larsson Gustav   29   \n",
       " 8      9  168            van Emden Jos   25   \n",
       " 9     10  182            Pinotti Marco   34   \n",
       " 10    11  132          Nibali Vincenzo   25   \n",
       " 11    12  166          Stamsnijder Tom   24   \n",
       " 12    13  189           Sieberg Marcel   28   \n",
       " 13    14   44            Grivko Andrei   26   \n",
       " 14    15  173              Cioni Dario   35   \n",
       " 15    16  151            Cataldo Dario   25   \n",
       " 16    17  119               Tuft Svein   32   \n",
       " 17    18   75      Konovalovas Ignatas   24   \n",
       " 18    19  218         MÃ¸rkÃ¸v Michael   25   \n",
       " 19    20   43        Gasparotto Enrico   28   \n",
       " 20    21  102        BrÃ¤ndle Matthias   20   \n",
       " 21    22  164               Flens Rick   27   \n",
       " 22    23   77              Wyss Marcel   23   \n",
       " 23    24  201          Gerdemann Linus   27   \n",
       " 24    25  181           Greipel AndrÃ©   27   \n",
       " 25    26   49       Dyachenko Alexandr   26   \n",
       " 26    27   53           Bonnet William   27   \n",
       " 27    28    6              Murphy John   25   \n",
       " 28    29   65          Kiryienka Vasil   28   \n",
       " 29    30   11         Garzelli Stefano   36   \n",
       " ..   ...  ...                      ...  ...   \n",
       " 168  168   95          Canuti Federico   24   \n",
       " 169  169   21      Bonnafond Guillaume   22   \n",
       " 170  170   35            Loddo Alberto   31   \n",
       " 171  171    8          Stalder Florian   27   \n",
       " 172  172  104         Cheula Giampaolo   30   \n",
       " 173  173   92          Belletti Manuel   24   \n",
       " 174  174   19  Sarmiento Jose Cayetano   23   \n",
       " 175  175  213    SÃ¸rensen Chris Anker   25   \n",
       " 176  176  105          Eibegger Markus   25   \n",
       " 177  177   14        Donati Alessandro   31   \n",
       " 178  178   12          Andriotto Dario   37   \n",
       " 179  179   91       Pozzovivo Domenico   27   \n",
       " 180  180   87              Kriit Kalle   26   \n",
       " 181  181  143              Blythe Adam   20   \n",
       " 182  182   73         Gustov Volodymyr   33   \n",
       " 183  183   47       Iglinskiy Valentin   25   \n",
       " 184  184   94       Bisolti Alessandro   25   \n",
       " 185  185  108            Merlo Michele   25   \n",
       " 186  186  165         Kozonchuk Dmitry   26   \n",
       " 187  187  147            Lloyd Matthew   26   \n",
       " 188  188  101           Capelli Ermano   24   \n",
       " 189  189  194         Caruso Giampaolo   29   \n",
       " 190  190   93             Modolo Sacha   22   \n",
       " 191  191   55           Claude Mathieu   27   \n",
       " 192  192  211              Lund Anders   25   \n",
       " 193  193   16       Masciarelli Andrea   27   \n",
       " 194  194  107              Corti Marco   24   \n",
       " 195  195  193            McEwen Robbie   37   \n",
       " 196  196  109          Pedersen Martin   27   \n",
       " 197  197   82           Blot Guillaume   25   \n",
       " \n",
       "                                                   Team   UCI   Pnt     Avg  \\\n",
       " 0                                       Sky Procycling  16.0  80.0  48.932   \n",
       " 1                                      BMC Racing Team   8.0  50.0  48.774   \n",
       " 2                                      BMC Racing Team   4.0  35.0  48.774   \n",
       " 3                                               Astana   2.0  25.0  48.539   \n",
       " 4                                       Sky Procycling   1.0  18.0  48.539   \n",
       " 5                                            Saxo Bank   NaN  15.0  48.539   \n",
       " 6                            Team Garmin - Transitions   NaN  12.0  48.462   \n",
       " 7                                            Saxo Bank   NaN  10.0  48.384   \n",
       " 8                                     Rabobank ProTeam   NaN   8.0  48.230   \n",
       " 9                                  Team HTC - Columbia   NaN   6.0  48.230   \n",
       " 10                                    Liquigas - Doimo   NaN   5.0  48.153   \n",
       " 11                                    Rabobank ProTeam   NaN   4.0  48.076   \n",
       " 12                                 Team HTC - Columbia   NaN   3.0  48.000   \n",
       " 13                                              Astana   NaN   2.0  47.924   \n",
       " 14                                      Sky Procycling   NaN   1.0  47.924   \n",
       " 15                              Quickstep - Innergetic   NaN   NaN  47.848   \n",
       " 16                           Team Garmin - Transitions   NaN   NaN  47.773   \n",
       " 17                                   Cervelo Test Team   NaN   NaN  47.773   \n",
       " 18                                           Saxo Bank   NaN   NaN  47.773   \n",
       " 19                                              Astana   NaN   NaN  47.697   \n",
       " 20                                     Footon-Servetto   NaN   NaN  47.697   \n",
       " 21                                    Rabobank ProTeam   NaN   NaN  47.622   \n",
       " 22                                   Cervelo Test Team   NaN   NaN  47.622   \n",
       " 23                                              Milram   NaN   NaN  47.622   \n",
       " 24                                 Team HTC - Columbia   NaN   NaN  47.547   \n",
       " 25                                              Astana   NaN   NaN  47.473   \n",
       " 26                               Bbox Bouygues Telecom   NaN   NaN  47.398   \n",
       " 27                                     BMC Racing Team   NaN   NaN  47.398   \n",
       " 28                                    Caisse d'Epargne   NaN   NaN  47.398   \n",
       " 29                                      Acqua & Sapone   NaN   NaN  47.398   \n",
       " ..                                                 ...   ...   ...     ...   \n",
       " 168                                 Colnago - CSF Inox   NaN   NaN  44.668   \n",
       " 169                                   AG2R La Mondiale   NaN   NaN  44.668   \n",
       " 170  Androni Giocattoli - Serramenti PVC Diquigiovanni   NaN   NaN  44.668   \n",
       " 171                                    BMC Racing Team   NaN   NaN  44.668   \n",
       " 172                                    Footon-Servetto   NaN   NaN  44.668   \n",
       " 173                                 Colnago - CSF Inox   NaN   NaN  44.668   \n",
       " 174                                     Acqua & Sapone   NaN   NaN  44.602   \n",
       " 175                                          Saxo Bank   NaN   NaN  44.602   \n",
       " 176                                    Footon-Servetto   NaN   NaN  44.602   \n",
       " 177                                     Acqua & Sapone   NaN   NaN  44.536   \n",
       " 178                                     Acqua & Sapone   NaN   NaN  44.471   \n",
       " 179                                 Colnago - CSF Inox   NaN   NaN  44.471   \n",
       " 180                         Cofidis Le Credit en Ligne   NaN   NaN  44.275   \n",
       " 181                                 Omega Pharma-Lotto   NaN   NaN  44.082   \n",
       " 182                                  Cervelo Test Team   NaN   NaN  44.082   \n",
       " 183                                             Astana   NaN   NaN  43.890   \n",
       " 184                                 Colnago - CSF Inox   NaN   NaN  43.890   \n",
       " 185                                    Footon-Servetto   NaN   NaN  43.890   \n",
       " 186                                   Rabobank ProTeam   NaN   NaN  43.763   \n",
       " 187                                 Omega Pharma-Lotto   NaN   NaN  43.763   \n",
       " 188                                    Footon-Servetto   NaN   NaN  43.573   \n",
       " 189                                           Katyusha   NaN   NaN  43.511   \n",
       " 190                                 Colnago - CSF Inox   NaN   NaN  43.448   \n",
       " 191                              Bbox Bouygues Telecom   NaN   NaN  43.324   \n",
       " 192                                          Saxo Bank   NaN   NaN  43.324   \n",
       " 193                                     Acqua & Sapone   NaN   NaN  43.200   \n",
       " 194                                    Footon-Servetto   NaN   NaN  43.138   \n",
       " 195                                           Katyusha   NaN   NaN  42.712   \n",
       " 196                                    Footon-Servetto   NaN   NaN  42.652   \n",
       " 197                         Cofidis Le Credit en Ligne   NaN   NaN  42.592   \n",
       " \n",
       "             Time   GC GC-Time  \n",
       " 0    10:18 10:18  1.0   +0:00  \n",
       " 1      0:02 0:02  NaN   +0:00  \n",
       " 2        ,, 0:02  NaN   +0:00  \n",
       " 3      0:05 0:05  NaN   +0:00  \n",
       " 4        ,, 0:05  NaN   +0:00  \n",
       " 5        ,, 0:05  NaN   +0:00  \n",
       " 6      0:06 0:06  NaN   +0:00  \n",
       " 7      0:07 0:07  NaN   +0:00  \n",
       " 8      0:09 0:09  NaN   +0:00  \n",
       " 9        ,, 0:09  NaN   +0:00  \n",
       " 10     0:10 0:10  NaN   +0:00  \n",
       " 11     0:11 0:11  NaN   +0:00  \n",
       " 12     0:12 0:12  NaN   +0:00  \n",
       " 13     0:13 0:13  NaN   +0:00  \n",
       " 14       ,, 0:13  NaN   +0:00  \n",
       " 15     0:14 0:14  NaN   +0:00  \n",
       " 16     0:15 0:15  NaN   +0:00  \n",
       " 17       ,, 0:15  NaN   +0:00  \n",
       " 18       ,, 0:15  NaN   +0:00  \n",
       " 19     0:16 0:16  NaN   +0:00  \n",
       " 20       ,, 0:16  NaN   +0:00  \n",
       " 21     0:17 0:17  NaN   +0:00  \n",
       " 22       ,, 0:17  NaN   +0:00  \n",
       " 23       ,, 0:17  NaN   +0:00  \n",
       " 24     0:18 0:18  NaN   +0:00  \n",
       " 25     0:19 0:19  NaN   +0:00  \n",
       " 26     0:20 0:20  NaN   +0:00  \n",
       " 27       ,, 0:20  NaN   +0:00  \n",
       " 28       ,, 0:20  NaN   +0:00  \n",
       " 29       ,, 0:20  NaN   +0:00  \n",
       " ..           ...  ...     ...  \n",
       " 168    0:59 0:59  NaN   +0:00  \n",
       " 169      ,, 0:59  NaN   +0:00  \n",
       " 170      ,, 0:59  NaN   +0:00  \n",
       " 171      ,, 0:59  NaN   +0:00  \n",
       " 172      ,, 0:59  NaN   +0:00  \n",
       " 173      ,, 0:59  NaN   +0:00  \n",
       " 174    1:00 1:00  NaN   +0:00  \n",
       " 175      ,, 1:00  NaN   +0:00  \n",
       " 176      ,, 1:00  NaN   +0:00  \n",
       " 177    1:01 1:01  NaN   +0:00  \n",
       " 178    1:02 1:02  NaN   +0:00  \n",
       " 179      ,, 1:02  NaN   +0:00  \n",
       " 180    1:05 1:05  NaN   +0:00  \n",
       " 181    1:08 1:08  NaN   +0:00  \n",
       " 182      ,, 1:08  NaN   +0:00  \n",
       " 183    1:11 1:11  NaN   +0:00  \n",
       " 184      ,, 1:11  NaN   +0:00  \n",
       " 185      ,, 1:11  NaN   +0:00  \n",
       " 186    1:13 1:13  NaN   +0:00  \n",
       " 187      ,, 1:13  NaN   +0:00  \n",
       " 188    1:16 1:16  NaN   +0:00  \n",
       " 189    1:17 1:17  NaN   +0:00  \n",
       " 190    1:18 1:18  NaN   +0:00  \n",
       " 191    1:20 1:20  NaN   +0:00  \n",
       " 192      ,, 1:20  NaN   +0:00  \n",
       " 193    1:22 1:22  NaN   +0:00  \n",
       " 194    1:23 1:23  NaN   +0:00  \n",
       " 195    1:30 1:30  NaN   +0:00  \n",
       " 196    1:31 1:31  NaN   +0:00  \n",
       " 197    1:32 1:32  NaN   +0:00  \n",
       " \n",
       " [198 rows x 11 columns],    Rnk  BIB            Rider  Age            Team\n",
       " 0    1  171  Wiggins Bradley   30  Sky Procycling]"
      ]
     },
     "execution_count": 63,
     "metadata": {},
     "output_type": "execute_result"
    }
   ],
   "source": [
    "results"
   ]
  },
  {
   "cell_type": "code",
   "execution_count": 58,
   "metadata": {},
   "outputs": [
    {
     "data": {
      "text/html": [
       "<div>\n",
       "<style scoped>\n",
       "    .dataframe tbody tr th:only-of-type {\n",
       "        vertical-align: middle;\n",
       "    }\n",
       "\n",
       "    .dataframe tbody tr th {\n",
       "        vertical-align: top;\n",
       "    }\n",
       "\n",
       "    .dataframe thead th {\n",
       "        text-align: right;\n",
       "    }\n",
       "</style>\n",
       "<table border=\"1\" class=\"dataframe\">\n",
       "  <thead>\n",
       "    <tr style=\"text-align: right;\">\n",
       "      <th></th>\n",
       "      <th>Rnk</th>\n",
       "      <th>BIB</th>\n",
       "      <th>Rider</th>\n",
       "      <th>Age</th>\n",
       "      <th>Team</th>\n",
       "      <th>UCI</th>\n",
       "      <th>Pnt</th>\n",
       "      <th>Avg</th>\n",
       "      <th>Time</th>\n",
       "      <th>GC</th>\n",
       "      <th>GC-Time</th>\n",
       "    </tr>\n",
       "  </thead>\n",
       "  <tbody>\n",
       "    <tr>\n",
       "      <th>0</th>\n",
       "      <td>1</td>\n",
       "      <td>171</td>\n",
       "      <td>Wiggins Bradley</td>\n",
       "      <td>30</td>\n",
       "      <td>Sky Procycling</td>\n",
       "      <td>16.0</td>\n",
       "      <td>80.0</td>\n",
       "      <td>48.932</td>\n",
       "      <td>10:18 10:18</td>\n",
       "      <td>1.0</td>\n",
       "      <td>+0:00</td>\n",
       "    </tr>\n",
       "    <tr>\n",
       "      <th>1</th>\n",
       "      <td>2</td>\n",
       "      <td>2</td>\n",
       "      <td>Bookwalter Brent</td>\n",
       "      <td>26</td>\n",
       "      <td>BMC Racing Team</td>\n",
       "      <td>8.0</td>\n",
       "      <td>50.0</td>\n",
       "      <td>48.774</td>\n",
       "      <td>0:02 0:02</td>\n",
       "      <td>NaN</td>\n",
       "      <td>+0:00</td>\n",
       "    </tr>\n",
       "    <tr>\n",
       "      <th>2</th>\n",
       "      <td>3</td>\n",
       "      <td>1</td>\n",
       "      <td>Evans Cadel</td>\n",
       "      <td>33</td>\n",
       "      <td>BMC Racing Team</td>\n",
       "      <td>4.0</td>\n",
       "      <td>35.0</td>\n",
       "      <td>48.774</td>\n",
       "      <td>,, 0:02</td>\n",
       "      <td>NaN</td>\n",
       "      <td>+0:00</td>\n",
       "    </tr>\n",
       "    <tr>\n",
       "      <th>3</th>\n",
       "      <td>4</td>\n",
       "      <td>41</td>\n",
       "      <td>Vinokourov Alexandre</td>\n",
       "      <td>36</td>\n",
       "      <td>Astana</td>\n",
       "      <td>2.0</td>\n",
       "      <td>25.0</td>\n",
       "      <td>48.539</td>\n",
       "      <td>0:05 0:05</td>\n",
       "      <td>NaN</td>\n",
       "      <td>+0:00</td>\n",
       "    </tr>\n",
       "    <tr>\n",
       "      <th>4</th>\n",
       "      <td>5</td>\n",
       "      <td>177</td>\n",
       "      <td>Henderson Gregory</td>\n",
       "      <td>33</td>\n",
       "      <td>Sky Procycling</td>\n",
       "      <td>1.0</td>\n",
       "      <td>18.0</td>\n",
       "      <td>48.539</td>\n",
       "      <td>,, 0:05</td>\n",
       "      <td>NaN</td>\n",
       "      <td>+0:00</td>\n",
       "    </tr>\n",
       "  </tbody>\n",
       "</table>\n",
       "</div>"
      ],
      "text/plain": [
       "  Rnk  BIB                 Rider  Age             Team   UCI   Pnt     Avg  \\\n",
       "0   1  171       Wiggins Bradley   30   Sky Procycling  16.0  80.0  48.932   \n",
       "1   2    2      Bookwalter Brent   26  BMC Racing Team   8.0  50.0  48.774   \n",
       "2   3    1           Evans Cadel   33  BMC Racing Team   4.0  35.0  48.774   \n",
       "3   4   41  Vinokourov Alexandre   36           Astana   2.0  25.0  48.539   \n",
       "4   5  177     Henderson Gregory   33   Sky Procycling   1.0  18.0  48.539   \n",
       "\n",
       "          Time   GC GC-Time  \n",
       "0  10:18 10:18  1.0   +0:00  \n",
       "1    0:02 0:02  NaN   +0:00  \n",
       "2      ,, 0:02  NaN   +0:00  \n",
       "3    0:05 0:05  NaN   +0:00  \n",
       "4      ,, 0:05  NaN   +0:00  "
      ]
     },
     "execution_count": 58,
     "metadata": {},
     "output_type": "execute_result"
    }
   ],
   "source": [
    "results[0].head()"
   ]
  },
  {
   "cell_type": "code",
   "execution_count": 59,
   "metadata": {},
   "outputs": [
    {
     "data": {
      "text/html": [
       "<div>\n",
       "<style scoped>\n",
       "    .dataframe tbody tr th:only-of-type {\n",
       "        vertical-align: middle;\n",
       "    }\n",
       "\n",
       "    .dataframe tbody tr th {\n",
       "        vertical-align: top;\n",
       "    }\n",
       "\n",
       "    .dataframe thead th {\n",
       "        text-align: right;\n",
       "    }\n",
       "</style>\n",
       "<table border=\"1\" class=\"dataframe\">\n",
       "  <thead>\n",
       "    <tr style=\"text-align: right;\">\n",
       "      <th></th>\n",
       "      <th>Rnk</th>\n",
       "      <th>BIB</th>\n",
       "      <th>Rider</th>\n",
       "      <th>Age</th>\n",
       "      <th>Team</th>\n",
       "    </tr>\n",
       "  </thead>\n",
       "  <tbody>\n",
       "    <tr>\n",
       "      <th>0</th>\n",
       "      <td>1</td>\n",
       "      <td>171</td>\n",
       "      <td>Wiggins Bradley</td>\n",
       "      <td>30</td>\n",
       "      <td>Sky Procycling</td>\n",
       "    </tr>\n",
       "  </tbody>\n",
       "</table>\n",
       "</div>"
      ],
      "text/plain": [
       "   Rnk  BIB            Rider  Age            Team\n",
       "0    1  171  Wiggins Bradley   30  Sky Procycling"
      ]
     },
     "execution_count": 59,
     "metadata": {},
     "output_type": "execute_result"
    }
   ],
   "source": [
    "results[1].head()"
   ]
  },
  {
   "cell_type": "code",
   "execution_count": 6,
   "metadata": {},
   "outputs": [],
   "source": [
    "#rankings:\n",
    "url = 'https://www.procyclingstats.com/rankings.php'\n",
    "r = requests.get(url,headers=header)\n",
    "rankings = pd.read_html(r.text)\n",
    "rankings = rankings[0]"
   ]
  },
  {
   "cell_type": "code",
   "execution_count": 7,
   "metadata": {
    "scrolled": true
   },
   "outputs": [],
   "source": [
    "riders = [[x[1]+'-'+x[0]][0] for x in rankings.Rider.str.lower().str.split()]"
   ]
  },
  {
   "cell_type": "code",
   "execution_count": 9,
   "metadata": {},
   "outputs": [],
   "source": [
    "#iterate through riders for stats\n",
    "url = 'http://www.procyclingstats.com/rider/'+riders[0]"
   ]
  },
  {
   "cell_type": "code",
   "execution_count": 12,
   "metadata": {},
   "outputs": [],
   "source": [
    "r = requests.get(url,headers=header)\n",
    "soup = BeautifulSoup(r.text)"
   ]
  },
  {
   "cell_type": "code",
   "execution_count": 13,
   "metadata": {},
   "outputs": [],
   "source": [
    "data = soup.find('div',{'class':'rdrRes'})"
   ]
  },
  {
   "cell_type": "code",
   "execution_count": 122,
   "metadata": {},
   "outputs": [],
   "source": [
    "row0 = data.findAll('div',{'class':'row'})[0]\n",
    "date = row0.find('span').text\n",
    "race = row0.find('b').text"
   ]
  },
  {
   "cell_type": "code",
   "execution_count": 158,
   "metadata": {},
   "outputs": [
    {
     "name": "stdout",
     "output_type": "stream",
     "text": [
      "0   \n",
      "1 1\n",
      "2  \n",
      "3 \n",
      "4 Mountains Classification\n",
      "5  \n",
      "6  \n",
      "7  \n",
      "8  \n"
     ]
    }
   ],
   "source": [
    "row1 = data.findAll('div',{'class':'row'})[1]\n",
    "date = row1.findAll('span')[0].text\n",
    "result = row1.findAll('span')[1].text\n",
    "race = row1.findAll('span')[4].text\n",
    "distance = row1.findAll('span')[5].text\n",
    "points_pcs = row1.findAll('span')[6].text\n",
    "points_uci = row1.findAll('span')[7].text\n",
    "index = 0\n",
    "for i in row1:\n",
    "    print(index, i.text)\n",
    "    index +=1"
   ]
  },
  {
   "cell_type": "code",
   "execution_count": 156,
   "metadata": {},
   "outputs": [
    {
     "name": "stdout",
     "output_type": "stream",
     "text": [
      "0   \n",
      "1 18\n",
      "2  \n",
      "3 \n",
      "4 Points Classification\n",
      "5  \n",
      "6  \n",
      "7  \n",
      "8  \n"
     ]
    }
   ],
   "source": [
    "row2 = data.findAll('div',{'class':'row'})[2]\n",
    "date = row2.findAll('span')[0].text\n",
    "result = row2.findAll('span')[1].text\n",
    "race = row2.findAll('span')[4].text\n",
    "distance = row2.findAll('span')[5].text\n",
    "points_pcs = row2.findAll('span')[6].text\n",
    "points_uci = row2.findAll('span')[7].text\n",
    "index = 0\n",
    "for i in row2:\n",
    "    print(index, i.text)\n",
    "    index +=1"
   ]
  },
  {
   "cell_type": "code",
   "execution_count": 157,
   "metadata": {},
   "outputs": [
    {
     "name": "stdout",
     "output_type": "stream",
     "text": [
      "0 27.05\n",
      "1 145\n",
      "2  \n",
      "3  \n",
      "4 Stage 21 - Roma › Roma\n",
      "5 115 \n",
      "6  \n",
      "7  \n",
      "8  \n"
     ]
    }
   ],
   "source": [
    "row4 = data.findAll('div',{'class':'row'})[4]\n",
    "date = row4.findAll('span')[0].text\n",
    "result = row4.findAll('span')[1].text\n",
    "race = row4.findAll('span')[4].text\n",
    "distance = row4.findAll('span')[5].text\n",
    "points_pcs = row4.findAll('span')[6].text\n",
    "points_uci = row4.findAll('span')[7].text\n",
    "index = 0\n",
    "for i in row4:\n",
    "    print(index, i.text)\n",
    "    index +=1"
   ]
  },
  {
   "cell_type": "code",
   "execution_count": 160,
   "metadata": {},
   "outputs": [],
   "source": [
    "rows = data.findAll('div',{'class':'row'})"
   ]
  },
  {
   "cell_type": "code",
   "execution_count": 171,
   "metadata": {},
   "outputs": [
    {
     "data": {
      "text/plain": [
       "['row']"
      ]
     },
     "execution_count": 171,
     "metadata": {},
     "output_type": "execute_result"
    }
   ],
   "source": [
    "row['class']"
   ]
  },
  {
   "cell_type": "code",
   "execution_count": 173,
   "metadata": {},
   "outputs": [
    {
     "name": "stdout",
     "output_type": "stream",
     "text": [
      "row\n",
      "row light\n",
      "row light\n",
      "row light\n",
      "row light\n",
      "row light\n",
      "row light\n",
      "row light\n",
      "row light\n",
      "row light\n",
      "row light\n",
      "row light\n",
      "row light\n",
      "row light\n",
      "row light\n",
      "row light\n",
      "row light\n",
      "row light\n",
      "row light\n",
      "row light\n",
      "row light\n",
      "row light\n",
      "row light\n",
      "row light\n",
      "row light\n",
      "row\n",
      "row light\n",
      "row light\n",
      "row light\n",
      "row light\n",
      "row light\n",
      "row light\n",
      "row\n",
      "row light\n",
      "row light\n",
      "row light\n",
      "row light\n",
      "row light\n",
      "row light\n",
      "row light\n",
      "row light\n",
      "row\n",
      "row light\n",
      "row light\n",
      "row light\n",
      "row light\n",
      "row light\n",
      "row light\n",
      "row light\n"
     ]
    }
   ],
   "source": [
    "df = []\n",
    "for row in rows:\n",
    "    if row['class'] == ['row']:\n",
    "        print('row')\n",
    "    elif row['class'] == ['row','light']:\n",
    "        print('row light')"
   ]
  }
 ],
 "metadata": {
  "hide_input": false,
  "kernelspec": {
   "display_name": "Python 3",
   "language": "python",
   "name": "python3"
  },
  "language_info": {
   "codemirror_mode": {
    "name": "ipython",
    "version": 3
   },
   "file_extension": ".py",
   "mimetype": "text/x-python",
   "name": "python",
   "nbconvert_exporter": "python",
   "pygments_lexer": "ipython3",
   "version": "3.6.5"
  },
  "toc": {
   "base_numbering": 1,
   "nav_menu": {},
   "number_sections": true,
   "sideBar": true,
   "skip_h1_title": false,
   "title_cell": "Table of Contents",
   "title_sidebar": "Contents",
   "toc_cell": false,
   "toc_position": {},
   "toc_section_display": true,
   "toc_window_display": false
  }
 },
 "nbformat": 4,
 "nbformat_minor": 2
}
