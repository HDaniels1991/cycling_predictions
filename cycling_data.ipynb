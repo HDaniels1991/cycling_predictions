{
 "cells": [
  {
   "cell_type": "code",
   "execution_count": 42,
   "metadata": {},
   "outputs": [],
   "source": [
    "import warnings\n",
    "warnings.filterwarnings('ignore')"
   ]
  },
  {
   "cell_type": "code",
   "execution_count": 214,
   "metadata": {},
   "outputs": [],
   "source": [
    "import pandas as pd\n",
    "from pandas import Series, DataFrame\n",
    "import requests\n",
    "from bs4 import BeautifulSoup\n",
    "from datetime import datetime\n",
    "from datetime import timedelta  "
   ]
  },
  {
   "cell_type": "code",
   "execution_count": 45,
   "metadata": {},
   "outputs": [],
   "source": [
    "#pretend to be a browser\n",
    "header = {\n",
    "  \"User-Agent\": \"Mozilla/5.0 (X11; Linux x86_64) AppleWebKit/537.36 (KHTML, like Gecko) Chrome/50.0.2661.75 Safari/537.36\",\n",
    "  \"X-Requested-With\": \"XMLHttpRequest\"\n",
    "}"
   ]
  },
  {
   "cell_type": "code",
   "execution_count": 46,
   "metadata": {},
   "outputs": [],
   "source": [
    "#grand tour urls\n",
    "#giro d-italia\n",
    "url_gdi = 'https://www.procyclingstats.com/race/giro-d-italia/'\n",
    "#tour de france\n",
    "url_tdf = 'https://www.procyclingstats.com/race/tour-de-france/'\n",
    "#vuelta a espana\n",
    "url_vae = 'https://www.procyclingstats.com/race/vuelta-a-espana/'"
   ]
  },
  {
   "cell_type": "code",
   "execution_count": 77,
   "metadata": {},
   "outputs": [],
   "source": [
    "#url data\n",
    "base_url = 'https://www.procyclingstats.com/race/'"
   ]
  },
  {
   "cell_type": "code",
   "execution_count": 78,
   "metadata": {},
   "outputs": [],
   "source": [
    "#grand tours\n",
    "tours = ['giro-d-italia','tour-de-france','vuelta-a-espana']\n",
    "#considered years\n",
    "years = list(range(2010,2017,1))\n",
    "#stages\n",
    "stages = list(range(1,21,1))"
   ]
  },
  {
   "cell_type": "code",
   "execution_count": 268,
   "metadata": {},
   "outputs": [],
   "source": [
    "#gt data\n",
    "tour = tours[0]\n",
    "year = str(years[0])\n",
    "stage = str(stages[0])\n",
    "url = base_url + tour +'/'+ year + '/stage-' + stage\n",
    "r = requests.get(url,headers = header)\n",
    "results = pd.read_html(r.text)\n",
    "results = results[0]\n",
    "\n",
    "#add fields\n",
    "results['race'] = tour\n",
    "results['year'] = year\n",
    "results['stage'] = stage\n",
    "results.columns = results.columns.str.lower()\n",
    "\n",
    "#fix time\n",
    "time = [x[0] for x in results.time.str.split()]\n",
    "\n",
    "for n,t in enumerate(time):\n",
    "    if t == ',,':\n",
    "        time[n] = '00:00:00'\n",
    "    elif len(t) == 4:\n",
    "        time[n] = '00:0' + t\n",
    "    elif len(t) == 5:\n",
    "        time[n] = '00:' + t\n",
    "    elif len(t) == 7:\n",
    "        time[n] = '0' + t\n",
    "\n",
    "for n,t in enumerate(time):\n",
    "    time[n] = datetime.strptime(time[n],'%H:%M:%S').time()\n",
    "    \n",
    "results.time = time\n"
   ]
  }
 ],
 "metadata": {
  "hide_input": false,
  "kernelspec": {
   "display_name": "Python 3",
   "language": "python",
   "name": "python3"
  },
  "language_info": {
   "codemirror_mode": {
    "name": "ipython",
    "version": 3
   },
   "file_extension": ".py",
   "mimetype": "text/x-python",
   "name": "python",
   "nbconvert_exporter": "python",
   "pygments_lexer": "ipython3",
   "version": "3.6.5"
  },
  "toc": {
   "base_numbering": 1,
   "nav_menu": {},
   "number_sections": true,
   "sideBar": true,
   "skip_h1_title": false,
   "title_cell": "Table of Contents",
   "title_sidebar": "Contents",
   "toc_cell": false,
   "toc_position": {},
   "toc_section_display": true,
   "toc_window_display": false
  }
 },
 "nbformat": 4,
 "nbformat_minor": 2
}
