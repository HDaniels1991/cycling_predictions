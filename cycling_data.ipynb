{
 "cells": [
  {
   "cell_type": "code",
   "execution_count": 11,
   "metadata": {},
   "outputs": [],
   "source": [
    "import warnings\n",
    "warnings.filterwarnings('ignore')"
   ]
  },
  {
   "cell_type": "code",
   "execution_count": 1,
   "metadata": {},
   "outputs": [],
   "source": [
    "import pandas as pd\n",
    "from pandas import Series, DataFrame"
   ]
  },
  {
   "cell_type": "code",
   "execution_count": 2,
   "metadata": {},
   "outputs": [],
   "source": [
    "from bs4 import BeautifulSoup"
   ]
  },
  {
   "cell_type": "code",
   "execution_count": 3,
   "metadata": {},
   "outputs": [],
   "source": [
    "from pandas import read_html"
   ]
  },
  {
   "cell_type": "code",
   "execution_count": 4,
   "metadata": {},
   "outputs": [],
   "source": [
    "import requests"
   ]
  },
  {
   "cell_type": "code",
   "execution_count": 5,
   "metadata": {},
   "outputs": [],
   "source": [
    "#pretend to be a browser\n",
    "header = {\n",
    "  \"User-Agent\": \"Mozilla/5.0 (X11; Linux x86_64) AppleWebKit/537.36 (KHTML, like Gecko) Chrome/50.0.2661.75 Safari/537.36\",\n",
    "  \"X-Requested-With\": \"XMLHttpRequest\"\n",
    "}"
   ]
  },
  {
   "cell_type": "code",
   "execution_count": 6,
   "metadata": {},
   "outputs": [],
   "source": [
    "#rankings:\n",
    "url = 'https://www.procyclingstats.com/rankings.php'\n",
    "r = requests.get(url,headers=header)\n",
    "rankings = pd.read_html(r.text)\n",
    "rankings = rankings[0]"
   ]
  },
  {
   "cell_type": "code",
   "execution_count": 7,
   "metadata": {
    "scrolled": true
   },
   "outputs": [],
   "source": [
    "riders = [[x[1]+'-'+x[0]][0] for x in rankings.Rider.str.lower().str.split()]"
   ]
  },
  {
   "cell_type": "code",
   "execution_count": 9,
   "metadata": {},
   "outputs": [],
   "source": [
    "#iterate through riders for stats\n",
    "url = 'http://www.procyclingstats.com/rider/'+riders[0]"
   ]
  },
  {
   "cell_type": "code",
   "execution_count": 12,
   "metadata": {},
   "outputs": [],
   "source": [
    "r = requests.get(url,headers=header)\n",
    "soup = BeautifulSoup(r.text)"
   ]
  },
  {
   "cell_type": "code",
   "execution_count": 13,
   "metadata": {},
   "outputs": [],
   "source": [
    "data = soup.find('div',{'class':'rdrRes'})"
   ]
  },
  {
   "cell_type": "code",
   "execution_count": 122,
   "metadata": {},
   "outputs": [],
   "source": [
    "row0 = data.findAll('div',{'class':'row'})[0]\n",
    "date = row0.find('span').text\n",
    "race = row0.find('b').text"
   ]
  },
  {
   "cell_type": "code",
   "execution_count": 158,
   "metadata": {},
   "outputs": [
    {
     "name": "stdout",
     "output_type": "stream",
     "text": [
      "0   \n",
      "1 1\n",
      "2  \n",
      "3 \n",
      "4 Mountains Classification\n",
      "5  \n",
      "6  \n",
      "7  \n",
      "8  \n"
     ]
    }
   ],
   "source": [
    "row1 = data.findAll('div',{'class':'row'})[1]\n",
    "date = row1.findAll('span')[0].text\n",
    "result = row1.findAll('span')[1].text\n",
    "race = row1.findAll('span')[4].text\n",
    "distance = row1.findAll('span')[5].text\n",
    "points_pcs = row1.findAll('span')[6].text\n",
    "points_uci = row1.findAll('span')[7].text\n",
    "index = 0\n",
    "for i in row1:\n",
    "    print(index, i.text)\n",
    "    index +=1"
   ]
  },
  {
   "cell_type": "code",
   "execution_count": 156,
   "metadata": {},
   "outputs": [
    {
     "name": "stdout",
     "output_type": "stream",
     "text": [
      "0   \n",
      "1 18\n",
      "2  \n",
      "3 \n",
      "4 Points Classification\n",
      "5  \n",
      "6  \n",
      "7  \n",
      "8  \n"
     ]
    }
   ],
   "source": [
    "row2 = data.findAll('div',{'class':'row'})[2]\n",
    "date = row2.findAll('span')[0].text\n",
    "result = row2.findAll('span')[1].text\n",
    "race = row2.findAll('span')[4].text\n",
    "distance = row2.findAll('span')[5].text\n",
    "points_pcs = row2.findAll('span')[6].text\n",
    "points_uci = row2.findAll('span')[7].text\n",
    "index = 0\n",
    "for i in row2:\n",
    "    print(index, i.text)\n",
    "    index +=1"
   ]
  },
  {
   "cell_type": "code",
   "execution_count": 157,
   "metadata": {},
   "outputs": [
    {
     "name": "stdout",
     "output_type": "stream",
     "text": [
      "0 27.05\n",
      "1 145\n",
      "2  \n",
      "3  \n",
      "4 Stage 21 - Roma › Roma\n",
      "5 115 \n",
      "6  \n",
      "7  \n",
      "8  \n"
     ]
    }
   ],
   "source": [
    "row4 = data.findAll('div',{'class':'row'})[4]\n",
    "date = row4.findAll('span')[0].text\n",
    "result = row4.findAll('span')[1].text\n",
    "race = row4.findAll('span')[4].text\n",
    "distance = row4.findAll('span')[5].text\n",
    "points_pcs = row4.findAll('span')[6].text\n",
    "points_uci = row4.findAll('span')[7].text\n",
    "index = 0\n",
    "for i in row4:\n",
    "    print(index, i.text)\n",
    "    index +=1"
   ]
  },
  {
   "cell_type": "code",
   "execution_count": 160,
   "metadata": {},
   "outputs": [],
   "source": [
    "rows = data.findAll('div',{'class':'row'})"
   ]
  },
  {
   "cell_type": "code",
   "execution_count": 171,
   "metadata": {},
   "outputs": [
    {
     "data": {
      "text/plain": [
       "['row']"
      ]
     },
     "execution_count": 171,
     "metadata": {},
     "output_type": "execute_result"
    }
   ],
   "source": [
    "row['class']"
   ]
  },
  {
   "cell_type": "code",
   "execution_count": 173,
   "metadata": {},
   "outputs": [
    {
     "name": "stdout",
     "output_type": "stream",
     "text": [
      "row\n",
      "row light\n",
      "row light\n",
      "row light\n",
      "row light\n",
      "row light\n",
      "row light\n",
      "row light\n",
      "row light\n",
      "row light\n",
      "row light\n",
      "row light\n",
      "row light\n",
      "row light\n",
      "row light\n",
      "row light\n",
      "row light\n",
      "row light\n",
      "row light\n",
      "row light\n",
      "row light\n",
      "row light\n",
      "row light\n",
      "row light\n",
      "row light\n",
      "row\n",
      "row light\n",
      "row light\n",
      "row light\n",
      "row light\n",
      "row light\n",
      "row light\n",
      "row\n",
      "row light\n",
      "row light\n",
      "row light\n",
      "row light\n",
      "row light\n",
      "row light\n",
      "row light\n",
      "row light\n",
      "row\n",
      "row light\n",
      "row light\n",
      "row light\n",
      "row light\n",
      "row light\n",
      "row light\n",
      "row light\n"
     ]
    }
   ],
   "source": [
    "df = []\n",
    "for row in rows:\n",
    "    if row['class'] == ['row']:\n",
    "        print('row')\n",
    "    elif row['class'] == ['row','light']:\n",
    "        print('row light')"
   ]
  }
 ],
 "metadata": {
  "hide_input": false,
  "kernelspec": {
   "display_name": "Python 3",
   "language": "python",
   "name": "python3"
  },
  "language_info": {
   "codemirror_mode": {
    "name": "ipython",
    "version": 3
   },
   "file_extension": ".py",
   "mimetype": "text/x-python",
   "name": "python",
   "nbconvert_exporter": "python",
   "pygments_lexer": "ipython3",
   "version": "3.6.5"
  },
  "toc": {
   "base_numbering": 1,
   "nav_menu": {},
   "number_sections": true,
   "sideBar": true,
   "skip_h1_title": false,
   "title_cell": "Table of Contents",
   "title_sidebar": "Contents",
   "toc_cell": false,
   "toc_position": {},
   "toc_section_display": true,
   "toc_window_display": false
  }
 },
 "nbformat": 4,
 "nbformat_minor": 2
}
