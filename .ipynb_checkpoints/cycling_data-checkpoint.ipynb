{
 "cells": [
  {
   "cell_type": "code",
   "execution_count": 1,
   "metadata": {},
   "outputs": [],
   "source": [
    "import warnings\n",
    "warnings.filterwarnings('ignore')"
   ]
  },
  {
   "cell_type": "code",
   "execution_count": 2,
   "metadata": {},
   "outputs": [],
   "source": [
    "import pandas as pd\n",
    "from pandas import Series, DataFrame\n",
    "import requests\n",
    "from bs4 import BeautifulSoup\n",
    "from datetime import datetime\n",
    "from datetime import timedelta  "
   ]
  },
  {
   "cell_type": "code",
   "execution_count": 9,
   "metadata": {},
   "outputs": [],
   "source": [
    "#pretend to be a browser\n",
    "header = {\n",
    "  \"User-Agent\": \"Mozilla/5.0 (X11; Linux x86_64) AppleWebKit/537.36 (KHTML, like Gecko) Chrome/50.0.2661.75 Safari/537.36\",\n",
    "  \"X-Requested-With\": \"XMLHttpRequest\"\n",
    "}"
   ]
  },
  {
   "cell_type": "code",
   "execution_count": 10,
   "metadata": {},
   "outputs": [],
   "source": [
    "#grand tour urls\n",
    "#giro d-italia\n",
    "url_gdi = 'https://www.procyclingstats.com/race/giro-d-italia/'\n",
    "#tour de france\n",
    "url_tdf = 'https://www.procyclingstats.com/race/tour-de-france/'\n",
    "#vuelta a espana\n",
    "url_vae = 'https://www.procyclingstats.com/race/vuelta-a-espana/'"
   ]
  },
  {
   "cell_type": "code",
   "execution_count": 5,
   "metadata": {},
   "outputs": [],
   "source": [
    "#url data\n",
    "base_url = 'https://www.procyclingstats.com/race/'"
   ]
  },
  {
   "cell_type": "code",
   "execution_count": 11,
   "metadata": {},
   "outputs": [],
   "source": [
    "#grand tours\n",
    "tours = ['giro-d-italia','tour-de-france','vuelta-a-espana']\n",
    "#considered years\n",
    "years = list(range(2010,2017,1))\n",
    "#stages\n",
    "stages = list(range(1,21,1))"
   ]
  },
  {
   "cell_type": "code",
   "execution_count": 45,
   "metadata": {},
   "outputs": [],
   "source": [
    "#gt data\n",
    "tour = tours[0]\n",
    "year = str(years[0])\n",
    "stage = str(stages[0])\n",
    "url = base_url + tour +'/'+ year + '/stage-' + stage\n",
    "r = requests.get(url,headers = header)\n",
    "results = pd.read_html(r.text)\n",
    "results = results[0]\n",
    "\n",
    "#add fields\n",
    "results['race'] = tour\n",
    "results['year'] = year\n",
    "results['stage'] = stage\n",
    "results.columns = results.columns.str.lower()\n",
    "\n",
    "#fix time\n",
    "time = [x[0] for x in results.time.str.split()]\n",
    "\n",
    "for n,t in enumerate(time):\n",
    "    if t == ',,':\n",
    "        time[n] = '00:00:00'\n",
    "    elif len(t) == 4:\n",
    "        time[n] = '00:0' + t\n",
    "    elif len(t) == 5:\n",
    "        time[n] = '00:' + t\n",
    "    elif len(t) == 7:\n",
    "        time[n] = '0' + t\n",
    "\n",
    "#for n,t in enumerate(time):\n",
    " #   time[n] = datetime.strptime(time[n],'%H:%M:%S').time()\n",
    "    \n",
    "results.time = time\n"
   ]
  },
  {
   "cell_type": "code",
   "execution_count": 46,
   "metadata": {},
   "outputs": [],
   "source": [
    "time1 = pd.to_datetime(time)"
   ]
  },
  {
   "cell_type": "code",
   "execution_count": null,
   "metadata": {},
   "outputs": [],
   "source": []
  },
  {
   "cell_type": "code",
   "execution_count": 52,
   "metadata": {},
   "outputs": [],
   "source": [
    "seconds = time1[0].second\n",
    "minutes = time1[0].minute\n",
    "hours = time1[0].hour"
   ]
  },
  {
   "cell_type": "code",
   "execution_count": 57,
   "metadata": {},
   "outputs": [
    {
     "data": {
      "text/plain": [
       "Timestamp('2018-06-19 00:20:36')"
      ]
     },
     "execution_count": 57,
     "metadata": {},
     "output_type": "execute_result"
    }
   ],
   "source": [
    "time1[0] + timedelta(hours = hours, minutes=minutes, seconds=seconds)"
   ]
  },
  {
   "cell_type": "code",
   "execution_count": 23,
   "metadata": {},
   "outputs": [],
   "source": [
    "for n,t in enumerate(time):\n",
    "    time[n] = datetime.strptime(time[n],'%H:%M:%S').time()"
   ]
  },
  {
   "cell_type": "code",
   "execution_count": 28,
   "metadata": {},
   "outputs": [],
   "source": [
    "tim = time[0]"
   ]
  },
  {
   "cell_type": "code",
   "execution_count": null,
   "metadata": {},
   "outputs": [],
   "source": [
    "from datetime import timedelta "
   ]
  },
  {
   "cell_type": "code",
   "execution_count": 29,
   "metadata": {},
   "outputs": [
    {
     "ename": "TypeError",
     "evalue": "unsupported type for timedelta days component: datetime.time",
     "output_type": "error",
     "traceback": [
      "\u001b[0;31m---------------------------------------------------------------------------\u001b[0m",
      "\u001b[0;31mTypeError\u001b[0m                                 Traceback (most recent call last)",
      "\u001b[0;32m<ipython-input-29-d456fdc17521>\u001b[0m in \u001b[0;36m<module>\u001b[0;34m()\u001b[0m\n\u001b[0;32m----> 1\u001b[0;31m \u001b[0mtime\u001b[0m\u001b[0;34m[\u001b[0m\u001b[0;36m0\u001b[0m\u001b[0;34m]\u001b[0m \u001b[0;34m+\u001b[0m \u001b[0mtimedelta\u001b[0m\u001b[0;34m(\u001b[0m\u001b[0mtime\u001b[0m\u001b[0;34m[\u001b[0m\u001b[0;36m1\u001b[0m\u001b[0;34m]\u001b[0m\u001b[0;34m)\u001b[0m\u001b[0;34m\u001b[0m\u001b[0m\n\u001b[0m",
      "\u001b[0;31mTypeError\u001b[0m: unsupported type for timedelta days component: datetime.time"
     ]
    }
   ],
   "source": [
    "time[0] + "
   ]
  },
  {
   "cell_type": "code",
   "execution_count": null,
   "metadata": {},
   "outputs": [],
   "source": []
  }
 ],
 "metadata": {
  "hide_input": false,
  "kernelspec": {
   "display_name": "Python 3",
   "language": "python",
   "name": "python3"
  },
  "language_info": {
   "codemirror_mode": {
    "name": "ipython",
    "version": 3
   },
   "file_extension": ".py",
   "mimetype": "text/x-python",
   "name": "python",
   "nbconvert_exporter": "python",
   "pygments_lexer": "ipython3",
   "version": "3.6.5"
  },
  "toc": {
   "base_numbering": 1,
   "nav_menu": {},
   "number_sections": true,
   "sideBar": true,
   "skip_h1_title": false,
   "title_cell": "Table of Contents",
   "title_sidebar": "Contents",
   "toc_cell": false,
   "toc_position": {},
   "toc_section_display": true,
   "toc_window_display": false
  }
 },
 "nbformat": 4,
 "nbformat_minor": 2
}
