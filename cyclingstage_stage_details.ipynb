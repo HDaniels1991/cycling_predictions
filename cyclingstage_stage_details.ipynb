{
 "cells": [
  {
   "cell_type": "code",
   "execution_count": null,
   "metadata": {},
   "outputs": [],
   "source": [
    "import warnings\n",
    "warnings.filterwarnings('ignore')"
   ]
  },
  {
   "cell_type": "code",
   "execution_count": 18,
   "metadata": {},
   "outputs": [],
   "source": [
    "import pandas as pd\n",
    "from pandas import Series, DataFrame\n",
    "import requests\n",
    "from bs4 import BeautifulSoup\n",
    "from datetime import datetime\n",
    "from datetime import timedelta\n",
    "import numpy as np\n",
    "import requests"
   ]
  },
  {
   "cell_type": "code",
   "execution_count": 20,
   "metadata": {},
   "outputs": [],
   "source": [
    "#pretend to be a browser\n",
    "header = {\n",
    "  \"User-Agent\": \"Mozilla/5.0 (X11; Linux x86_64) AppleWebKit/537.36 (KHTML, like Gecko) Chrome/50.0.2661.75 Safari/537.36\",\n",
    "  \"X-Requested-With\": \"XMLHttpRequest\"\n",
    "}"
   ]
  },
  {
   "cell_type": "code",
   "execution_count": 14,
   "metadata": {},
   "outputs": [],
   "source": [
    "base_url = 'https://www.cyclingstage.com/'"
   ]
  },
  {
   "cell_type": "code",
   "execution_count": 3,
   "metadata": {},
   "outputs": [],
   "source": [
    "giro = 'giro-%s-route/' \n",
    "tour = 'tour-de-france-%s-route/' \n",
    "vuelta = 'vuelta-%s-route/' "
   ]
  },
  {
   "cell_type": "code",
   "execution_count": 5,
   "metadata": {},
   "outputs": [],
   "source": [
    "tours = [giro,tour,vuelta]\n",
    "years = list(range(2014,2018,1))\n",
    "years = [str(x) for x in years]"
   ]
  },
  {
   "cell_type": "code",
   "execution_count": 90,
   "metadata": {},
   "outputs": [],
   "source": [
    "data =pd.DataFrame()\n",
    "for year in years:\n",
    "    for tour in tours:\n",
    "        url = base_url + tour % year\n",
    "        r = requests.get(url,headers=header)\n",
    "        df = pd.read_html(r.text,header=0)[0]\n",
    "        #sort columns\n",
    "        df.columns = ['rnk','date','route','length','type']\n",
    "        if data.empty:\n",
    "            data = df\n",
    "        else:\n",
    "            data = data.append(df)"
   ]
  },
  {
   "cell_type": "code",
   "execution_count": 95,
   "metadata": {},
   "outputs": [
    {
     "data": {
      "text/plain": [
       "0         [Giro 2014, tage 1 Belfast (N-Irl) – Belfast]\n",
       "1                 [Giro 2014, tage 2 Belfast – Belfast]\n",
       "2     [Giro 2014, tage 3 Armagh (N-Irl) – Dublin (Irl)]\n",
       "3                                [rest day / transport]\n",
       "4                 [Giro 2014, tage 4 Giovinazzo – Bari]\n",
       "5                [Giro 2014, tage 5 Tarente – Viggiano]\n",
       "6            [Giro 2014, tage 6 Sassano – Montecassino]\n",
       "7               [Giro 2014, tage 7 Frosinone – Foligno]\n",
       "8            [Giro 2014, tage 8 Foligno – Montecopiolo]\n",
       "9                    [Giro 2014, tage 9 Lugo – Sestola]\n",
       "10                                           [rest day]\n",
       "11    [Giro 2014, tage 10 Modena – Salsomaggiore Terme]\n",
       "12             [Giro 2014, tage 11 Collecchio – Savona]\n",
       "13             [Giro 2014, tage 12 Barbaresco – Barolo]\n",
       "14     [Giro 2014, tage 13 Fossano – Rivarolo Canavese]\n",
       "15                   [Giro 2014, tage 14 Agliè – Oropa]\n",
       "16    [Giro 2014, tage 15 Valdengo – Plan di Monteca...\n",
       "17                                           [rest day]\n",
       "18    [Giro 2014, tage 16 Ponte di Legno – Val Marte...\n",
       "19     [Giro 2014, tage 17 Sarnonico – Vittorio Veneto]\n",
       "20     [Giro 2014, tage 18 Belluno – Rifugio Panarotta]\n",
       "21    [Giro 2014, tage 19 Bassano del Grappa – Cima ...\n",
       "22        [Giro 2014, tage 20 Maniago – Monte Zoncolan]\n",
       "23     [Giro 2014, tage 21 Gemona del Friuli – Trieste]\n",
       "0     [Tour de France 2014 Stage 1: Leeds (Eng) – Ha...\n",
       "1     [Tour de France 2014 – Stage 2: York (Eng) – S...\n",
       "2     [Tour de France 2014 – Stage 3: Cambridge (Eng...\n",
       "3     [Tour de France 2014 – Stage 4: Le Touquet – L...\n",
       "4     [Tour de France 2014 – Stage 5: Ypres (bel) – ...\n",
       "5        [Tour de France 2014 – Stage 6: Arras – Reims]\n",
       "                            ...                        \n",
       "16                        [Rest day in Le Puy en Velay]\n",
       "17    [Tour de France 2017, tage 16 Le Puy en Velay ...\n",
       "18    [Tour de France 2017, tage 17 La Mure – Serre ...\n",
       "19    [Tour de France 2017, tage 18 Briançon – Col d...\n",
       "20    [Tour de France 2017, tage 19 Embrun – Salon d...\n",
       "21      [Tour de France 2017, tage 20 ITT in Marseille]\n",
       "22     [Tour de France 2017, tage 21 Montgeron – Paris]\n",
       "0             [Vuelta 2017, tage 1 Nîmes (fra) – Nîmes]\n",
       "1     [Vuelta 2017, tage 2 Nîmes (fra) – Gruissan (f...\n",
       "2     [Vuelta 2017, tage 3 Prades – Andorra la Vella...\n",
       "3            [Vuelta 2017, tage 4 Escaldes – Tarragona]\n",
       "4     [Vuelta 2017, tage 5 Benicassim – Ermita Santa...\n",
       "5             [Vuelta 2017, tage 6 Villareal – Sagunto]\n",
       "6                 [Vuelta 2017, tage 7 Llíria – Cuenca]\n",
       "7        [Vuelta 2017, tage 8 Hellín – Xorret del Catí]\n",
       "8     [Vuelta 2017, tage 9 Orihuela (Torrevieja) – C...\n",
       "9                                            [rest day]\n",
       "10    [Vuelta 2017, tage 10 Caravaca de la Cruz – Al...\n",
       "11            [Vuelta 2017, tage 11 Lorca – Calar Alto]\n",
       "12            [Vuelta 2017, tage 12 Motril – Antequera]\n",
       "13                [Vuelta 2017, tage 13 Coín – Tomares]\n",
       "14            [Vuelta 2017, tage 14 Écija – La Pandera]\n",
       "15    [Vuelta 2017, tage 15 Alcalá la Real – Sierra ...\n",
       "16                                           [rest day]\n",
       "17           [Vuelta 2017, tage 16 Los Arcos – Logroño]\n",
       "18     [Vuelta 2017, tage 17 Villadiego – Los Machucos]\n",
       "19    [Vuelta 2017, tage 18 Suances – Santo Toribio ...\n",
       "20    [Vuelta 2017, tage 19 Caso (Parque de Redes) –...\n",
       "21             [Vuelta 2017, tage 20 Corvera – Angliru]\n",
       "22        [Vuelta 2017, tage 21 Arroyomolinos – Madrid]\n",
       "Name: route, Length: 279, dtype: object"
      ]
     },
     "execution_count": 95,
     "metadata": {},
     "output_type": "execute_result"
    }
   ],
   "source": [
    "data.route.str.split(' s')\n"
   ]
  },
  {
   "cell_type": "code",
   "execution_count": null,
   "metadata": {},
   "outputs": [],
   "source": []
  },
  {
   "cell_type": "code",
   "execution_count": null,
   "metadata": {},
   "outputs": [],
   "source": []
  }
 ],
 "metadata": {
  "hide_input": false,
  "kernelspec": {
   "display_name": "Python 3",
   "language": "python",
   "name": "python3"
  },
  "language_info": {
   "codemirror_mode": {
    "name": "ipython",
    "version": 3
   },
   "file_extension": ".py",
   "mimetype": "text/x-python",
   "name": "python",
   "nbconvert_exporter": "python",
   "pygments_lexer": "ipython3",
   "version": "3.6.5"
  },
  "toc": {
   "base_numbering": 1,
   "nav_menu": {},
   "number_sections": true,
   "sideBar": true,
   "skip_h1_title": false,
   "title_cell": "Table of Contents",
   "title_sidebar": "Contents",
   "toc_cell": false,
   "toc_position": {},
   "toc_section_display": true,
   "toc_window_display": false
  }
 },
 "nbformat": 4,
 "nbformat_minor": 2
}
